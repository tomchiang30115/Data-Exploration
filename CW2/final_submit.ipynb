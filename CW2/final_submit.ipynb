{
 "cells": [
  {
   "cell_type": "code",
   "execution_count": null,
   "id": "a72b8d3f-9a9b-4b25-995a-0388e83a7024",
   "metadata": {},
   "outputs": [
    {
     "name": "stderr",
     "output_type": "stream",
     "text": [
      "[nltk_data] Downloading package stopwords to /home/repl/nltk_data...\n",
      "[nltk_data]   Package stopwords is already up-to-date!\n"
     ]
    },
    {
     "data": {
      "text/plain": [
       "True"
      ]
     },
     "execution_count": 4,
     "metadata": {},
     "output_type": "execute_result"
    }
   ],
   "source": [
    "import numpy as np\n",
    "import pandas as pd\n",
    "import matplotlib.pyplot as plt\n",
    "%config InlineBackend.figure_format = 'retina'\n",
    "import seaborn as sns\n",
    "sns.set_style('white')\n",
    "sns.set_theme('paper')\n",
    "\n",
    "from sklearn.metrics import confusion_matrix, accuracy_score, pairwise\n",
    "from sklearn.model_selection import train_test_split\n",
    "from nltk.tokenize import word_tokenize\n",
    "from nltk.stem import SnowballStemmer\n",
    "from nltk.corpus import stopwords\n",
    "from sklearn import svm\n",
    "import nltk\n",
    "from sklearn.feature_extraction.text import TfidfVectorizer\n",
    "from sklearn.model_selection import GridSearchCV\n",
    "import string\n",
    "from sklearn.metrics import ConfusionMatrixDisplay\n",
    "from collections import Counter\n",
    "from nltk.stem import WordNetLemmatizer\n",
    "from sklearn.pipeline import Pipeline\n",
    "\n",
    "lemmatizer = WordNetLemmatizer()\n",
    "\n",
    "nltk.download('stopwords')"
   ]
  },
  {
   "cell_type": "code",
   "execution_count": null,
   "id": "3b96060a-8956-4057-bf14-f1b5ce97f0f5",
   "metadata": {},
   "outputs": [
    {
     "name": "stdout",
     "output_type": "stream",
     "text": [
      "5000\n",
      "5000\n"
     ]
    }
   ],
   "source": [
    "def clean_strings(x):\n",
    "    stop = stopwords.words('english')\n",
    "    x_punc_l = x.apply(lambda z: z.lower().translate(str.maketrans('', '', string.punctuation)))\n",
    "    x_punc_l_stop = x_punc_l.apply(lambda z: ' '.join([word.lower() for word in z.split() if word not in (stop)]))\n",
    "    x_final = x_punc_l_stop.apply(lambda z: ' '.join([lemmatizer.lemmatize(word) for word in z.split()])).str.findall(\n",
    "        \"\\w{3,}\").str.join(\" \")\n",
    "    return x_final\n",
    "\n",
    "\n",
    "def extract_bag_of_words_train_test(dataset_train, dataset_test):\n",
    "    train = pd.read_csv(dataset_train)\n",
    "    test = pd.read_csv(dataset_test)\n",
    "\n",
    "    x_train_matrix = train['review']\n",
    "    x_test_matrix = test['review']\n",
    "    y_train = [1 if x == 'positive' else -1 for x in train['sentiment']]\n",
    "    y_test = [1 if x == 'positive' else -1 for x in test['sentiment']]\n",
    "\n",
    "    return x_train_matrix, y_train, x_test_matrix, y_test\n",
    "\n",
    "\n",
    "X_train, y_train, X_test, y_test = extract_bag_of_words_train_test(\"movie_review_train.csv\",\n",
    "                                                                                 \"movie_review_test.csv\")\n",
    "print(len(X_train))\n",
    "print(len(y_train))"
   ]
  },
  {
   "cell_type": "code",
   "execution_count": null,
   "id": "8a8838c0-f5a4-41da-9943-6cb49984bd93",
   "metadata": {},
   "outputs": [],
   "source": [
    "class SVMClassifier:\n",
    "    '''Support Vector Machine classifier.'''\n",
    "\n",
    "    def __init__(self, kernel='custom', a=2, b=3.6667):\n",
    "        '''Initialise kernel and pipeline etc.'''\n",
    "        self.a = a\n",
    "        self.b = b\n",
    "        if kernel == \"rbf\":\n",
    "            self.clf = svm.SVC(kernel=kernel)\n",
    "            self.params = {\n",
    "                \"C\": np.linspace(1.5, 2, 3),\n",
    "                \"gamma\": ['scale'],\n",
    "                'shrinking': [True]\n",
    "            }\n",
    "        elif kernel == \"custom\":\n",
    "            self.kernel = self.my_kernel\n",
    "            self.params = {\"C\": np.linspace(0.1, 4, 3)}\n",
    "            self.clf = svm.SVC(kernel=self.kernel)\n",
    "\n",
    "        # Instantiate the model\n",
    "        elif kernel == \"linear\":\n",
    "            self.clf = svm.LinearSVC()\n",
    "            self.params = {\n",
    "                \"C\": np.linspace(1, 1.6, 3),\n",
    "                \"loss\": ['hinge'],\n",
    "                'penalty': ['l2']\n",
    "            }\n",
    "        else:\n",
    "            self.clf = svm.SVC(kernel=kernel)\n",
    "\n",
    "        # Create Pipeline\n",
    "        self.pipe = Pipeline([\n",
    "            ('tfid', TfidfVectorizer(ngram_range=(1, 2), sublinear_tf=True)),\n",
    "            ('clf', GridSearchCV(self.clf, param_grid=self.params, cv=5, n_jobs=-1, verbose=4))\n",
    "        ])\n",
    "\n",
    "    def my_kernel(self, x, x_):\n",
    "        return np.log(self.a * np.dot(x, x_.T) + self.b * np.ones(np.shape(np.dot(x, x_.T))))\n",
    "\n",
    "    def fit(self, X, y):\n",
    "        '''Fit the Classifier.'''\n",
    "        self.pipe.fit(X, y)\n",
    "        print(self.pipe['clf'].best_params_)\n",
    "        return\n",
    "\n",
    "    def predict(self, X):\n",
    "        '''Make predictions'''\n",
    "        y = self.pipe.predict(X)\n",
    "        # accuracy = metrics.accuracy_score(y_test, y)\n",
    "        # precisions, recall, f1_score, _ = metrics.precision_recall_fscore_support(y_test, y)\n",
    "        return y"
   ]
  },
  {
   "cell_type": "markdown",
   "id": "324e05b1-cfc2-40a8-9775-065e4b0dcb83",
   "metadata": {},
   "source": [
    "## Linear kernel"
   ]
  },
  {
   "cell_type": "code",
   "execution_count": null,
   "id": "c208c86f-7c66-482d-8402-6c85107dcc28",
   "metadata": {},
   "outputs": [
    {
     "name": "stdout",
     "output_type": "stream",
     "text": [
      "Fitting 5 folds for each of 10 candidates, totalling 50 fits\n",
      "{'C': 1.4000000000000001, 'loss': 'hinge', 'penalty': 'l2'}\n",
      "Accuracy: 0.8986666666666666\n"
     ]
    },
    {
     "data": {
      "image/png": "[encoded data removed]",
      "text/plain": [
       "<Figure size 432x288 with 2 Axes>"
      ]
     },
     "metadata": {
      "image/png": {
       "height": 262,
       "width": 308
      }
     },
     "output_type": "display_data"
    }
   ],
   "source": [
    "kernel_choice = 'linear'\n",
    "X_train, Y_train, X_test, Y_test = extract_bag_of_words_train_test(\"movie_review_train.csv\", \"movie_review_test.csv\")\n",
    "sc = SVMClassifier(kernel = kernel_choice)\n",
    "sc.fit(X_train, Y_train)\n",
    "Y_Pred = sc.predict(X_test)\n",
    "acc = accuracy_score(Y_test, Y_Pred)\n",
    "print(\"Accuracy:\",acc)\n",
    "\n",
    "cm = confusion_matrix(Y_test, Y_Pred)\n",
    "disp = ConfusionMatrixDisplay(confusion_matrix=cm)\n",
    "disp.plot()\n",
    "plt.show()"
   ]
  },
  {
   "cell_type": "markdown",
   "id": "5c7c3477-415a-4480-b715-68e0bf71e8f3",
   "metadata": {},
   "source": [
    "## RBF kernel"
   ]
  },
  {
   "cell_type": "code",
   "execution_count": null,
   "id": "b4f437b0-50f7-45e6-91e9-075a7ed2d5a9",
   "metadata": {},
   "outputs": [
    {
     "name": "stdout",
     "output_type": "stream",
     "text": [
      "Fitting 5 folds for each of 10 candidates, totalling 50 fits\n",
      "{'C': 1.8333333333333335, 'gamma': 'scale', 'shrinking': True}\n",
      "Accuracy: 0.8873333333333333\n"
     ]
    },
    {
     "data": {
      "image/png": "[encoded data removed]",
      "text/plain": [
       "<Figure size 432x288 with 2 Axes>"
      ]
     },
     "metadata": {
      "image/png": {
       "height": 262,
       "width": 308
      }
     },
     "output_type": "display_data"
    }
   ],
   "source": [
    "kernel_choice = 'rbf'\n",
    "\n",
    "X_train, Y_train, X_test, Y_test = extract_bag_of_words_train_test(\"movie_review_train.csv\", \"movie_review_test.csv\")\n",
    "sc = SVMClassifier(kernel=kernel_choice)\n",
    "sc.fit(X_train, Y_train)\n",
    "Y_Pred = sc.predict(X_test)\n",
    "acc = accuracy_score(Y_test, Y_Pred)\n",
    "print(\"Accuracy:\",acc)\n",
    "\n",
    "cm = confusion_matrix(Y_test, Y_Pred)\n",
    "disp = ConfusionMatrixDisplay(confusion_matrix=cm)\n",
    "disp.plot()\n",
    "plt.show()"
   ]
  },
  {
   "cell_type": "markdown",
   "id": "67f9bf7d-4d0f-4979-a9bd-48045c3d3f69",
   "metadata": {},
   "source": [
    "# Custom kernel"
   ]
  },
  {
   "cell_type": "code",
   "execution_count": null,
   "id": "df32fb57-3a93-4bf4-894b-4ded073daf8f",
   "metadata": {},
   "outputs": [],
   "source": [
    "kernel_choice = 'custom'\n",
    "\n",
    "X_train, Y_train, X_test, Y_test = extract_bag_of_words_train_test(\"movie_review_train.csv\", \"movie_review_test.csv\")\n",
    "for a in np.linspace(1,2.5,4):\n",
    "    for b in np.linspace(3,4.5,4):\n",
    "        sc = SVMClassifier(a=a, b=b, kernel=kernel_choice)\n",
    "        sc.fit(X_train, Y_train)\n",
    "        Y_Pred = sc.predict(X_test)\n",
    "        acc = accuracy_score(Y_test, Y_Pred)\n",
    "        print(f\"{a}, {b}, Accuracy: {acc}\",)\n",
    "# Best accuracy found to be 2.2, 5\n",
    "sc = SVMClassifier(a=a, b=b)\n",
    "sc.fit(X_train, Y_train)\n",
    "Y_Pred = sc.predict(X_test)\n",
    "acc = accuracy_score(Y_test, Y_Pred)\n",
    "print(f\"Accuracy: {acc}\",)\n",
    "cm = confusion_matrix(Y_test, Y_Pred)\n",
    "disp = ConfusionMatrixDisplay(confusion_matrix=cm)\n",
    "disp.plot()\n",
    "plt.show()"
   ]
  },
  {
   "cell_type": "markdown",
   "id": "cd803abb-f250-4ebe-a9d9-23081e9c343b",
   "metadata": {},
   "source": [
    "## Final SVM results"
   ]
  },
  {
   "cell_type": "code",
   "execution_count": null,
   "id": "343c5dbb-f6f4-43b1-9e18-8109bfae767a",
   "metadata": {},
   "outputs": [],
   "source": [
    "def test_func_svm(dataset_train, dataset_test):\n",
    "    from sklearn.metrics import accuracy_score \n",
    "    (X_train, Y_train, X_test, Y_test) = extract_bag_of_words_train_test(dataset_train, dataset_test)\n",
    "    sc = SVMClassifier()\n",
    "    sc.fit(X_train, Y_train)\n",
    "    Y_Pred = sc.predict(X_test)\n",
    "    acc = accuracy_score(Y_test, Y_Pred)\n",
    "    print(\"Accuracy:\",acc)\n",
    "    return acc\n",
    "acc = test_func_svm(\"movie_review_train.csv\", \"movie_review_test.csv\")\n",
    "print(acc)"
   ]
  },
  {
   "cell_type": "markdown",
   "id": "cc0bdef2-bb99-4e4c-9bbb-898d8785f211",
   "metadata": {},
   "source": [
    "# Boosting "
   ]
  },
  {
   "cell_type": "code",
   "execution_count": null,
   "id": "d46fd06d-14b2-45f9-b49d-0bdcb42ca48f",
   "metadata": {},
   "outputs": [],
   "source": [
    "from sklearn.decomposition import TruncatedSVD\n",
    "from sklearn.tree import DecisionTreeClassifier\n",
    "from sklearn.base import BaseEstimator\n",
    "\n",
    "class BoostingClassifier(BaseEstimator):\n",
    "    \"\"\"Implements the Ensemble Decision Tree Classifier for text\"\"\"\n",
    "    def __init__(self, num_estimators=1000, max_depth=1):\n",
    "        self.alphas = []\n",
    "        self.models = []\n",
    "        self.num_estimators = num_estimators\n",
    "        self.max_depth = max_depth\n",
    "        self.pipe = Pipeline([\n",
    "            ('tfid', TfidfVectorizer(ngram_range=(1,2), sublinear_tf=True)),\n",
    "        ])\n",
    "        \n",
    "    def fit(self, X, y):\n",
    "        \"\"\"Fit the Ensemble Trees\"\"\"\n",
    "        def compute_error(y, y_p, w):\n",
    "            return (sum(w * (np.not_equal(y, y_p)).astype(int)))/sum(w)\n",
    "        def compute_alpha(error):\n",
    "            return np.log((1 - error) / error)\n",
    "        def update_weights(w, alph, y, y_p):\n",
    "            return w * np.exp(alph * (np.not_equal(y, y_p)).astype(int))\n",
    "        \n",
    "        current_weights = np.ones(len(y)) * 1 / len(y)\n",
    "        # Fit the tfidf\n",
    "        X = self.pipe['tfid'].fit_transform(X, y)\n",
    "        for est in range(0, self.num_estimators):\n",
    "            model = DecisionTreeClassifier(max_depth=self.max_depth)\n",
    "            # Add the model to the pipe\n",
    "            self.pipe.steps.append(['clf', model])\n",
    "            # Fit the model\n",
    "            self.pipe['clf'].fit(X, y, sample_weight = current_weights)\n",
    "            y_pred = self.pipe['clf'].predict(X)\n",
    "            # Save the fitted classifier\n",
    "            self.models.append(self.pipe['clf'])\n",
    "            # Remove the classifier fromt the pipe\n",
    "            self.pipe.steps.pop(-1)\n",
    "            # Compute the errors/alphas\n",
    "            error_model = compute_error(y, y_pred, current_weights)\n",
    "            alpha_model = compute_alpha(error_model)\n",
    "            # Save the alphas\n",
    "            self.alphas.append(alpha_model)\n",
    "            # Update the weights\n",
    "            current_weights = update_weights(current_weights, alpha_model, y, y_pred)\n",
    "\n",
    "    def predict(self, X):\n",
    "        \"\"\"Make Predictions\"\"\"\n",
    "        weak_preds = pd.DataFrame(index = range(len(X)), columns = range(self.num_estimators))\n",
    "        # Transform the test set\n",
    "        tfidf = self.pipe['tfid']\n",
    "        X = tfidf.transform(X)\n",
    "        for est in range(self.num_estimators):\n",
    "            y_pred_weak = self.models[est].predict(X) * self.alphas[est]\n",
    "            weak_preds.iloc[:,est] = y_pred_weak\n",
    "\n",
    "        final_y_pred = np.sign(weak_preds.T.sum()).astype(int)\n",
    "        return final_y_pred\n",
    "        \n",
    "    def plot(self, X, y):\n",
    "        \"\"\"Plot the tfidf space. Called before fitting the model.\"\"\"\n",
    "        tfidf = self.pipe['tfid'].fit(X)\n",
    "        X = tfidf.transform(X)\n",
    "        pca = TruncatedSVD(n_components=2).fit(X)\n",
    "        XY = pca.transform(X)\n",
    "        fig, ax = plt.subplots(figsize=(10,10))\n",
    "        plt.scatter(XY[:,0], XY[:,1], c=y, cmap='viridis')\n",
    "        plt.show()              \n"
   ]
  },
  {
   "cell_type": "code",
   "execution_count": null,
   "id": "6aeb3198-bac9-4c3d-8853-47cf25b4621b",
   "metadata": {},
   "outputs": [],
   "source": [
    "X_train, Y_train, X_test, Y_test = extract_bag_of_words_train_test(\"movie_review_train.csv\", \"movie_review_test.csv\")\n",
    "# Initial testing was {'num_estimators':[100, 200, 300, 500, 700, 800, 900, 1000, 1200, 1500], 'max_depth':[1, 2, 3, 4, 5], 'max_features' : [None, 'squared']} \n",
    "# However this was too long for runtime limit\n",
    "bc = BoostingClassifier()\n",
    "bc = GridSearchCV(bc, param_grid={'num_estimators':[1000], 'max_depth':[1]}, cv=5, n_jobs=-1, scoring='accuracy', verbose=3)\n",
    "bc.fit(X_train, Y_train)\n",
    "print(bc.best_params_)\n",
    "Y_Pred = bc.predict(X_test)\n",
    "acc = accuracy_score(Y_test, Y_Pred)\n",
    "print(\"Accuracy:\",acc)\n",
    "\n",
    "cm = confusion_matrix(Y_test, Y_Pred)\n",
    "disp = ConfusionMatrixDisplay(confusion_matrix=cm)\n",
    "disp.plot()\n",
    "plt.show()"
   ]
  },
  {
   "cell_type": "code",
   "execution_count": null,
   "id": "44596117-7802-476c-880f-cc4a1a3ec122",
   "metadata": {},
   "outputs": [],
   "source": [
    "# DO NOT MODIFY CODE HAS TO WORK WITH THIS\n",
    "def test_func_boosting(dataset_train, dataset_test):\n",
    "    from sklearn.metrics import accuracy_score    \n",
    "    (X_train, Y_train, X_test, Y_test) = extract_bag_of_words_train_test(dataset_train, dataset_test)\n",
    "    bc = BoostingClassifier()\n",
    "    bc.fit(X_train, Y_train)\n",
    "    Y_Pred = bc.predict(X_test)    \n",
    "    acc = accuracy_score(Y_test, Y_Pred)\n",
    "    return acc\n",
    "acc = test_func_boosting(\"movie_review_train.csv\", \"movie_review_test.csv\")\n",
    "print(acc)"
   ]
  }
 ],
 "metadata": {
  "kernelspec": {
   "display_name": "Python 3",
   "language": "python",
   "name": "python3"
  },
  "language_info": {
   "codemirror_mode": {
    "name": "ipython",
    "version": 3
   },
   "file_extension": ".py",
   "mimetype": "text/x-python",
   "name": "python",
   "nbconvert_exporter": "python",
   "pygments_lexer": "ipython3",
   "version": "3.8.8"
  }
 },
 "nbformat": 4,
 "nbformat_minor": 5
}
